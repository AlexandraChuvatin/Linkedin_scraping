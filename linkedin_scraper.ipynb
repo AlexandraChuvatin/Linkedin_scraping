{
 "cells": [
  {
   "cell_type": "code",
   "execution_count": 28,
   "id": "ae4f0943",
   "metadata": {},
   "outputs": [],
   "source": [
    "from bs4 import BeautifulSoup\n",
    "import requests\n",
    "import pandas as pd\n",
    "from selenium import webdriver\n",
    "from webdriver_manager.chrome import ChromeDriverManager\n",
    "from selenium.webdriver.common.keys import Keys\n",
    "import time"
   ]
  },
  {
   "cell_type": "markdown",
   "id": "f0aba6ea",
   "metadata": {},
   "source": [
    "# Library linkedin_scraper: is not working, returns null list"
   ]
  },
  {
   "cell_type": "code",
   "execution_count": 33,
   "id": "24ca152a",
   "metadata": {},
   "outputs": [
    {
     "name": "stderr",
     "output_type": "stream",
     "text": [
      "\n",
      "\n",
      "====== WebDriver manager ======\n",
      "Current google-chrome version is 98.0.4758\n",
      "Get LATEST chromedriver version for 98.0.4758 google-chrome\n",
      "Driver [C:\\Users\\Alexandra\\.wdm\\drivers\\chromedriver\\win32\\98.0.4758.102\\chromedriver.exe] found in cache\n",
      "C:\\Users\\ALEXAN~1\\AppData\\Local\\Temp/ipykernel_16620/2895565088.py:7: DeprecationWarning: executable_path has been deprecated, please pass in a Service object\n",
      "  mydriver = webdriver.Chrome(ChromeDriverManager().install())\n"
     ]
    }
   ],
   "source": [
    "from linkedin_scraper import Person, actions\n",
    "\n",
    "from selenium import webdriver\n",
    "from webdriver_manager.chrome import ChromeDriverManager\n",
    "#ChromeDriverManager().install()\n",
    "#\"C:/Program Files/Google/Chrome/Application/chrome.exe\"\n",
    "mydriver = webdriver.Chrome(ChromeDriverManager().install())\n",
    "\n",
    "email = \"XXX\"\n",
    "password = \"XXX\"\n",
    "actions.login(mydriver, email, password) # if email and password isnt given, it'll prompt in terminal\n",
    "person = Person(\"https://www.linkedin.com/in/XXX/\", driver=mydriver, scrape=False)\n",
    "#person.scrape(close_on_complete=False)\n",
    "person.scrape(close_on_complete=True)"
   ]
  },
  {
   "cell_type": "code",
   "execution_count": 33,
   "id": "d6cf6c4d",
   "metadata": {},
   "outputs": [
    {
     "ename": "NameError",
     "evalue": "name 'a' is not defined",
     "output_type": "error",
     "traceback": [
      "\u001b[1;31m---------------------------------------------------------------------------\u001b[0m",
      "\u001b[1;31mNameError\u001b[0m                                 Traceback (most recent call last)",
      "\u001b[1;32mC:\\Users\\ALEXAN~1\\AppData\\Local\\Temp/ipykernel_15632/2167009006.py\u001b[0m in \u001b[0;36m<module>\u001b[1;34m\u001b[0m\n\u001b[1;32m----> 1\u001b[1;33m \u001b[0ma\u001b[0m\u001b[1;33m\u001b[0m\u001b[1;33m\u001b[0m\u001b[0m\n\u001b[0m",
      "\u001b[1;31mNameError\u001b[0m: name 'a' is not defined"
     ]
    }
   ],
   "source": [
    "person"
   ]
  },
  {
   "cell_type": "markdown",
   "id": "9b436836",
   "metadata": {},
   "source": [
    "# Se connecter a linkedin + taper dans la barre de recherche Nom + Prenom"
   ]
  },
  {
   "cell_type": "code",
   "execution_count": 31,
   "id": "f32f5756",
   "metadata": {},
   "outputs": [
    {
     "name": "stderr",
     "output_type": "stream",
     "text": [
      "\n",
      "\n",
      "====== WebDriver manager ======\n",
      "Current google-chrome version is 98.0.4758\n",
      "Get LATEST chromedriver version for 98.0.4758 google-chrome\n",
      "Driver [C:\\Users\\Alexandra\\.wdm\\drivers\\chromedriver\\win32\\98.0.4758.102\\chromedriver.exe] found in cache\n",
      "C:\\Users\\ALEXAN~1\\AppData\\Local\\Temp/ipykernel_15632/4075773509.py:5: DeprecationWarning: executable_path has been deprecated, please pass in a Service object\n",
      "  driver = webdriver.Chrome(ChromeDriverManager().install())\n",
      "C:\\Users\\ALEXAN~1\\AppData\\Local\\Temp/ipykernel_15632/4075773509.py:11: DeprecationWarning: find_element_by_* commands are deprecated. Please use find_element() instead\n",
      "  username = driver.find_element_by_name('session_key')\n",
      "C:\\Users\\ALEXAN~1\\AppData\\Local\\Temp/ipykernel_15632/4075773509.py:17: DeprecationWarning: find_element_by_* commands are deprecated. Please use find_element() instead\n",
      "  password = driver.find_element_by_name('session_password')\n",
      "C:\\Users\\ALEXAN~1\\AppData\\Local\\Temp/ipykernel_15632/4075773509.py:23: DeprecationWarning: find_element_by_* commands are deprecated. Please use find_element() instead\n",
      "  sign_in_button = driver.find_element_by_xpath('//*[@type=\"submit\"]')\n",
      "C:\\Users\\ALEXAN~1\\AppData\\Local\\Temp/ipykernel_15632/4075773509.py:30: DeprecationWarning: find_element_by_* commands are deprecated. Please use find_element() instead\n",
      "  search=driver.find_element_by_xpath('//*[@id=\"global-nav-typeahead\"]/input')\n"
     ]
    }
   ],
   "source": [
    "email = \"XXX\"\n",
    "mypassword = \"XXX\"\n",
    "\n",
    "# Creation of a new instance of Google Chrome\n",
    "driver = webdriver.Chrome(ChromeDriverManager().install())\n",
    "\n",
    "# Load the page on the browser\n",
    "driver.get('https://www.linkedin.com/login/fr?fromSignIn=true&trk=guest_homepage-basic_nav-header-signin')\n",
    "\n",
    "# locate email form by_class_name\n",
    "username = driver.find_element_by_name('session_key')\n",
    "\n",
    "# send_keys() to simulate key strokes\n",
    "username.send_keys(email)\n",
    "\n",
    "# locate password form by_class_name\n",
    "password = driver.find_element_by_name('session_password')\n",
    "\n",
    "# send_keys() to simulate key strokes\n",
    "password.send_keys(mypassword)\n",
    "\n",
    "# locate submit button by_xpath\n",
    "sign_in_button = driver.find_element_by_xpath('//*[@type=\"submit\"]')\n",
    "\n",
    "# .click() to mimic button click\n",
    "sign_in_button.click()\n",
    "\n",
    "#driver.get(\"https://www.linkedin.com/mynetwork/\")\n",
    "\n",
    "search=driver.find_element_by_xpath('//*[@id=\"global-nav-typeahead\"]/input')\n",
    "\n",
    "search.send_keys(\"Alexandra Chuvatin\",Keys.RETURN)"
   ]
  },
  {
   "cell_type": "code",
   "execution_count": 14,
   "id": "792ad7e0",
   "metadata": {},
   "outputs": [],
   "source": [
    "#profil 1: //*[@id=\"main\"]/div/div/div[1]/ul/li[1]/div/div/div[2]/div/div[1]/div/span[1]/span/a/span/span[1]\n",
    "\n",
    "#profil 2: #//*[@id=\"main\"]/div/div/div[1]/ul/li[2]/div/div/div[2]/div/div[1]/div/span[1]/span/a/span/span[1]"
   ]
  },
  {
   "cell_type": "markdown",
   "id": "6f346d1f",
   "metadata": {},
   "source": [
    "# Recupérer les liens des profils correspondants au nom/prénom passé"
   ]
  },
  {
   "cell_type": "code",
   "execution_count": null,
   "id": "5d292490",
   "metadata": {},
   "outputs": [],
   "source": []
  },
  {
   "cell_type": "markdown",
   "id": "8782a6a0",
   "metadata": {},
   "source": [
    "# Récupérer les contacts"
   ]
  },
  {
   "cell_type": "code",
   "execution_count": 32,
   "id": "8da546a6",
   "metadata": {},
   "outputs": [],
   "source": [
    "driver.get(\"https://www.linkedin.com/in/XXX/\")"
   ]
  }
 ],
 "metadata": {
  "kernelspec": {
   "display_name": "Python 3 (ipykernel)",
   "language": "python",
   "name": "python3"
  },
  "language_info": {
   "codemirror_mode": {
    "name": "ipython",
    "version": 3
   },
   "file_extension": ".py",
   "mimetype": "text/x-python",
   "name": "python",
   "nbconvert_exporter": "python",
   "pygments_lexer": "ipython3",
   "version": "3.9.7"
  }
 },
 "nbformat": 4,
 "nbformat_minor": 5
}
